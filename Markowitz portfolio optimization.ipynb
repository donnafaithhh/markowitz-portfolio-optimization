{
 "cells": [
  {
   "cell_type": "markdown",
   "id": "dd2d50e0-ed9b-4067-8ec6-4b76b508d3b2",
   "metadata": {},
   "source": [
    "This notebook was created by Donna Faith Go."
   ]
  },
  {
   "cell_type": "markdown",
   "id": "c229d8d0-9d8e-4ab5-9f2f-fce99c48f68f",
   "metadata": {},
   "source": [
    "# [Markowitz portfolio optimization](https://plotly.com/python/v3/ipython-notebooks/markowitz-portfolio-optimization/?fbclid=IwY2xjawMo8clleHRuA2FlbQIxMQABHuyZdkuwk_uY9jgZoTi8l5EPdpAtEDekC4BmZpE0zILe1THV1r_8HoJgTA2K_aem_JoK2f6vaXhMcEpMEe0eu8Q)\n",
    "Markowitz portfolio optimization is a financial model that helps investors construct portfolios that are most efficient in terms of risk and return.\n",
    "Here, it is saying that investors shouldn't choose securities/stocks that move together so that they can minimize their risk.\n",
    "\n",
    "The HM model is also called mean-variance model due to the fact that it is based on expected returns (mean) and the standard deviation (variance) of the various portfolios."
   ]
  },
  {
   "cell_type": "code",
   "execution_count": null,
   "id": "454bcf13-05cb-46f9-a5b6-b317e60adb71",
   "metadata": {},
   "outputs": [],
   "source": []
  }
 ],
 "metadata": {
  "kernelspec": {
   "display_name": "Python 3 (ipykernel)",
   "language": "python",
   "name": "python3"
  },
  "language_info": {
   "codemirror_mode": {
    "name": "ipython",
    "version": 3
   },
   "file_extension": ".py",
   "mimetype": "text/x-python",
   "name": "python",
   "nbconvert_exporter": "python",
   "pygments_lexer": "ipython3",
   "version": "3.13.6"
  }
 },
 "nbformat": 4,
 "nbformat_minor": 5
}
